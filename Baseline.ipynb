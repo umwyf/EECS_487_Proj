{
 "cells": [
  {
   "cell_type": "code",
   "execution_count": 9,
   "metadata": {},
   "outputs": [],
   "source": [
    "from datasets import load_dataset_builder\n",
    "from datasets import load_dataset\n",
    "from datasets import get_dataset_split_names\n",
    "from datasets import load_dataset\n",
    "from datasets import get_dataset_config_names"
   ]
  },
  {
   "cell_type": "code",
   "execution_count": 10,
   "metadata": {},
   "outputs": [
    {
     "data": {
      "text/plain": [
       "'Machine learning models are trained to find patterns in data.\\nNLP models can inadvertently learn socially undesirable patterns when training on gender biased text.\\nIn this work, we propose a general framework that decomposes gender bias in text along several pragmatic and semantic dimensions:\\nbias from the gender of the person being spoken about, bias from the gender of the person being spoken to, and bias from the gender of the speaker.\\nUsing this fine-grained framework, we automatically annotate eight large scale datasets with gender information.\\nIn addition, we collect a novel, crowdsourced evaluation benchmark of utterance-level gender rewrites.\\nDistinguishing between gender bias along multiple dimensions is important, as it enables us to train finer-grained gender bias classifiers.\\nWe show our classifiers prove valuable for a variety of important applications, such as controlling for gender bias in generative models,\\ndetecting gender bias in arbitrary text, and shed light on offensive language in terms of genderedness.\\n'"
      ]
     },
     "execution_count": 10,
     "metadata": {},
     "output_type": "execute_result"
    }
   ],
   "source": [
    "ds_builder = load_dataset_builder(\"md_gender_bias\")\n",
    "ds_builder.info.description"
   ]
  },
  {
   "cell_type": "code",
   "execution_count": 12,
   "metadata": {},
   "outputs": [
    {
     "name": "stdout",
     "output_type": "stream",
     "text": [
      "['gendered_words', 'name_genders', 'new_data', 'funpedia', 'image_chat', 'wizard', 'convai2_inferred', 'light_inferred', 'opensubtitles_inferred', 'yelp_inferred']\n"
     ]
    }
   ],
   "source": [
    "configs = get_dataset_config_names(\"md_gender_bias\")\n",
    "print(configs)"
   ]
  },
  {
   "cell_type": "code",
   "execution_count": 14,
   "metadata": {},
   "outputs": [
    {
     "name": "stderr",
     "output_type": "stream",
     "text": [
      "Downloading data: 100%|██████████| 233M/233M [00:34<00:00, 6.77MB/s] \n",
      "Generating train split: 100%|██████████| 222/222 [00:10<00:00, 22.05 examples/s]\n",
      "Generating train split: 100%|██████████| 131438/131438 [00:20<00:00, 6337.95 examples/s]\n",
      "Generating validation split: 100%|██████████| 7801/7801 [00:04<00:00, 1641.34 examples/s]\n",
      "Generating test split: 100%|██████████| 7801/7801 [00:04<00:00, 1754.49 examples/s]\n"
     ]
    }
   ],
   "source": [
    "wordlist = load_dataset(\"md_gender_bias\", \"gendered_words\", split=\"train\")\n",
    "testset = load_dataset(\"md_gender_bias\", \"convai2_inferred\", split=\"test\")"
   ]
  }
 ],
 "metadata": {
  "kernelspec": {
   "display_name": "Python 3",
   "language": "python",
   "name": "python3"
  },
  "language_info": {
   "codemirror_mode": {
    "name": "ipython",
    "version": 3
   },
   "file_extension": ".py",
   "mimetype": "text/x-python",
   "name": "python",
   "nbconvert_exporter": "python",
   "pygments_lexer": "ipython3",
   "version": "3.8.10"
  }
 },
 "nbformat": 4,
 "nbformat_minor": 2
}
